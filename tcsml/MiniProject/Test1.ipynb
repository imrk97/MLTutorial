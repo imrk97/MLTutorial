{
 "cells": [
  {
   "cell_type": "code",
   "execution_count": 1,
   "id": "3f6d8d00",
   "metadata": {},
   "outputs": [],
   "source": [
    "import numpy as np\n",
    "import pandas as pd\n",
    "import seaborn as sns\n",
    "import matplotlib.pyplot as plt"
   ]
  },
  {
   "cell_type": "code",
   "execution_count": 2,
   "id": "bf973b36",
   "metadata": {},
   "outputs": [],
   "source": [
    "data = pd.read_csv('Dataset_proj1.csv')"
   ]
  },
  {
   "cell_type": "code",
   "execution_count": 3,
   "id": "bc8b6617",
   "metadata": {},
   "outputs": [
    {
     "data": {
      "text/html": [
       "<div>\n",
       "<style scoped>\n",
       "    .dataframe tbody tr th:only-of-type {\n",
       "        vertical-align: middle;\n",
       "    }\n",
       "\n",
       "    .dataframe tbody tr th {\n",
       "        vertical-align: top;\n",
       "    }\n",
       "\n",
       "    .dataframe thead th {\n",
       "        text-align: right;\n",
       "    }\n",
       "</style>\n",
       "<table border=\"1\" class=\"dataframe\">\n",
       "  <thead>\n",
       "    <tr style=\"text-align: right;\">\n",
       "      <th></th>\n",
       "      <th>Unnamed: 0</th>\n",
       "      <th>Date</th>\n",
       "      <th>Time</th>\n",
       "      <th>Customer_ID</th>\n",
       "      <th>Item</th>\n",
       "    </tr>\n",
       "  </thead>\n",
       "  <tbody>\n",
       "    <tr>\n",
       "      <th>0</th>\n",
       "      <td>0</td>\n",
       "      <td>2017-01-02</td>\n",
       "      <td>01:47:28.279733</td>\n",
       "      <td>55853434</td>\n",
       "      <td>Palak Paneer</td>\n",
       "    </tr>\n",
       "    <tr>\n",
       "      <th>1</th>\n",
       "      <td>1</td>\n",
       "      <td>2017-01-08</td>\n",
       "      <td>13:12:29.726141</td>\n",
       "      <td>29718647</td>\n",
       "      <td>Palak Aloo</td>\n",
       "    </tr>\n",
       "    <tr>\n",
       "      <th>2</th>\n",
       "      <td>2</td>\n",
       "      <td>2017-01-11</td>\n",
       "      <td>14:06:23.304466</td>\n",
       "      <td>18142412</td>\n",
       "      <td>Roti</td>\n",
       "    </tr>\n",
       "    <tr>\n",
       "      <th>3</th>\n",
       "      <td>3</td>\n",
       "      <td>2017-01-17</td>\n",
       "      <td>00:29:55.890029</td>\n",
       "      <td>34176848</td>\n",
       "      <td>Dal Tadka</td>\n",
       "    </tr>\n",
       "    <tr>\n",
       "      <th>4</th>\n",
       "      <td>4</td>\n",
       "      <td>2017-01-17</td>\n",
       "      <td>06:12:39.712888</td>\n",
       "      <td>49263612</td>\n",
       "      <td>Shabnam Curry</td>\n",
       "    </tr>\n",
       "  </tbody>\n",
       "</table>\n",
       "</div>"
      ],
      "text/plain": [
       "   Unnamed: 0        Date             Time  Customer_ID           Item\n",
       "0           0  2017-01-02  01:47:28.279733     55853434   Palak Paneer\n",
       "1           1  2017-01-08  13:12:29.726141     29718647     Palak Aloo\n",
       "2           2  2017-01-11  14:06:23.304466     18142412           Roti\n",
       "3           3  2017-01-17  00:29:55.890029     34176848      Dal Tadka\n",
       "4           4  2017-01-17  06:12:39.712888     49263612  Shabnam Curry"
      ]
     },
     "execution_count": 3,
     "metadata": {},
     "output_type": "execute_result"
    }
   ],
   "source": [
    "data.head()"
   ]
  },
  {
   "cell_type": "code",
   "execution_count": 4,
   "id": "b125ef9c",
   "metadata": {},
   "outputs": [
    {
     "data": {
      "text/plain": [
       "Index(['Unnamed: 0', 'Date', 'Time', 'Customer_ID', 'Item'], dtype='object')"
      ]
     },
     "execution_count": 4,
     "metadata": {},
     "output_type": "execute_result"
    }
   ],
   "source": [
    "data.columns"
   ]
  },
  {
   "cell_type": "code",
   "execution_count": 5,
   "id": "0004a9ea",
   "metadata": {},
   "outputs": [],
   "source": [
    "data.drop('Unnamed: 0',axis = 1, inplace=True)"
   ]
  },
  {
   "cell_type": "code",
   "execution_count": 6,
   "id": "b061974d",
   "metadata": {},
   "outputs": [
    {
     "data": {
      "text/html": [
       "<div>\n",
       "<style scoped>\n",
       "    .dataframe tbody tr th:only-of-type {\n",
       "        vertical-align: middle;\n",
       "    }\n",
       "\n",
       "    .dataframe tbody tr th {\n",
       "        vertical-align: top;\n",
       "    }\n",
       "\n",
       "    .dataframe thead th {\n",
       "        text-align: right;\n",
       "    }\n",
       "</style>\n",
       "<table border=\"1\" class=\"dataframe\">\n",
       "  <thead>\n",
       "    <tr style=\"text-align: right;\">\n",
       "      <th></th>\n",
       "      <th>Date</th>\n",
       "      <th>Time</th>\n",
       "      <th>Customer_ID</th>\n",
       "      <th>Item</th>\n",
       "    </tr>\n",
       "  </thead>\n",
       "  <tbody>\n",
       "    <tr>\n",
       "      <th>0</th>\n",
       "      <td>2017-01-02</td>\n",
       "      <td>01:47:28.279733</td>\n",
       "      <td>55853434</td>\n",
       "      <td>Palak Paneer</td>\n",
       "    </tr>\n",
       "    <tr>\n",
       "      <th>1</th>\n",
       "      <td>2017-01-08</td>\n",
       "      <td>13:12:29.726141</td>\n",
       "      <td>29718647</td>\n",
       "      <td>Palak Aloo</td>\n",
       "    </tr>\n",
       "    <tr>\n",
       "      <th>2</th>\n",
       "      <td>2017-01-11</td>\n",
       "      <td>14:06:23.304466</td>\n",
       "      <td>18142412</td>\n",
       "      <td>Roti</td>\n",
       "    </tr>\n",
       "    <tr>\n",
       "      <th>3</th>\n",
       "      <td>2017-01-17</td>\n",
       "      <td>00:29:55.890029</td>\n",
       "      <td>34176848</td>\n",
       "      <td>Dal Tadka</td>\n",
       "    </tr>\n",
       "    <tr>\n",
       "      <th>4</th>\n",
       "      <td>2017-01-17</td>\n",
       "      <td>06:12:39.712888</td>\n",
       "      <td>49263612</td>\n",
       "      <td>Shabnam Curry</td>\n",
       "    </tr>\n",
       "  </tbody>\n",
       "</table>\n",
       "</div>"
      ],
      "text/plain": [
       "         Date             Time  Customer_ID           Item\n",
       "0  2017-01-02  01:47:28.279733     55853434   Palak Paneer\n",
       "1  2017-01-08  13:12:29.726141     29718647     Palak Aloo\n",
       "2  2017-01-11  14:06:23.304466     18142412           Roti\n",
       "3  2017-01-17  00:29:55.890029     34176848      Dal Tadka\n",
       "4  2017-01-17  06:12:39.712888     49263612  Shabnam Curry"
      ]
     },
     "execution_count": 6,
     "metadata": {},
     "output_type": "execute_result"
    }
   ],
   "source": [
    "data.head()"
   ]
  },
  {
   "cell_type": "code",
   "execution_count": 7,
   "id": "9c80f44f",
   "metadata": {},
   "outputs": [],
   "source": [
    "data['Date'] = pd.to_datetime(data['Date'])"
   ]
  },
  {
   "cell_type": "code",
   "execution_count": 8,
   "id": "fe164dec",
   "metadata": {},
   "outputs": [
    {
     "data": {
      "text/html": [
       "<div>\n",
       "<style scoped>\n",
       "    .dataframe tbody tr th:only-of-type {\n",
       "        vertical-align: middle;\n",
       "    }\n",
       "\n",
       "    .dataframe tbody tr th {\n",
       "        vertical-align: top;\n",
       "    }\n",
       "\n",
       "    .dataframe thead th {\n",
       "        text-align: right;\n",
       "    }\n",
       "</style>\n",
       "<table border=\"1\" class=\"dataframe\">\n",
       "  <thead>\n",
       "    <tr style=\"text-align: right;\">\n",
       "      <th></th>\n",
       "      <th>Date</th>\n",
       "      <th>Time</th>\n",
       "      <th>Customer_ID</th>\n",
       "      <th>Item</th>\n",
       "    </tr>\n",
       "  </thead>\n",
       "  <tbody>\n",
       "    <tr>\n",
       "      <th>0</th>\n",
       "      <td>2017-01-02</td>\n",
       "      <td>01:47:28.279733</td>\n",
       "      <td>55853434</td>\n",
       "      <td>Palak Paneer</td>\n",
       "    </tr>\n",
       "    <tr>\n",
       "      <th>1</th>\n",
       "      <td>2017-01-08</td>\n",
       "      <td>13:12:29.726141</td>\n",
       "      <td>29718647</td>\n",
       "      <td>Palak Aloo</td>\n",
       "    </tr>\n",
       "    <tr>\n",
       "      <th>2</th>\n",
       "      <td>2017-01-11</td>\n",
       "      <td>14:06:23.304466</td>\n",
       "      <td>18142412</td>\n",
       "      <td>Roti</td>\n",
       "    </tr>\n",
       "    <tr>\n",
       "      <th>3</th>\n",
       "      <td>2017-01-17</td>\n",
       "      <td>00:29:55.890029</td>\n",
       "      <td>34176848</td>\n",
       "      <td>Dal Tadka</td>\n",
       "    </tr>\n",
       "    <tr>\n",
       "      <th>4</th>\n",
       "      <td>2017-01-17</td>\n",
       "      <td>06:12:39.712888</td>\n",
       "      <td>49263612</td>\n",
       "      <td>Shabnam Curry</td>\n",
       "    </tr>\n",
       "  </tbody>\n",
       "</table>\n",
       "</div>"
      ],
      "text/plain": [
       "        Date             Time  Customer_ID           Item\n",
       "0 2017-01-02  01:47:28.279733     55853434   Palak Paneer\n",
       "1 2017-01-08  13:12:29.726141     29718647     Palak Aloo\n",
       "2 2017-01-11  14:06:23.304466     18142412           Roti\n",
       "3 2017-01-17  00:29:55.890029     34176848      Dal Tadka\n",
       "4 2017-01-17  06:12:39.712888     49263612  Shabnam Curry"
      ]
     },
     "execution_count": 8,
     "metadata": {},
     "output_type": "execute_result"
    }
   ],
   "source": [
    "data.head()"
   ]
  },
  {
   "cell_type": "code",
   "execution_count": 9,
   "id": "0423e1ef",
   "metadata": {},
   "outputs": [
    {
     "data": {
      "text/plain": [
       "(500, 4)"
      ]
     },
     "execution_count": 9,
     "metadata": {},
     "output_type": "execute_result"
    }
   ],
   "source": [
    "data.shape"
   ]
  },
  {
   "cell_type": "code",
   "execution_count": 10,
   "id": "8acd0469",
   "metadata": {},
   "outputs": [
    {
     "name": "stdout",
     "output_type": "stream",
     "text": [
      "<class 'pandas.core.frame.DataFrame'>\n",
      "RangeIndex: 500 entries, 0 to 499\n",
      "Data columns (total 4 columns):\n",
      " #   Column       Non-Null Count  Dtype         \n",
      "---  ------       --------------  -----         \n",
      " 0   Date         500 non-null    datetime64[ns]\n",
      " 1   Time         500 non-null    object        \n",
      " 2   Customer_ID  500 non-null    int64         \n",
      " 3   Item         500 non-null    object        \n",
      "dtypes: datetime64[ns](1), int64(1), object(2)\n",
      "memory usage: 15.8+ KB\n"
     ]
    }
   ],
   "source": [
    "data.info()"
   ]
  },
  {
   "cell_type": "code",
   "execution_count": 11,
   "id": "0e8dfa33",
   "metadata": {},
   "outputs": [],
   "source": [
    "data['Time'] = pd.to_datetime(data['Time'])"
   ]
  },
  {
   "cell_type": "code",
   "execution_count": 12,
   "id": "f64e21ab",
   "metadata": {},
   "outputs": [
    {
     "name": "stdout",
     "output_type": "stream",
     "text": [
      "<class 'pandas.core.frame.DataFrame'>\n",
      "RangeIndex: 500 entries, 0 to 499\n",
      "Data columns (total 4 columns):\n",
      " #   Column       Non-Null Count  Dtype         \n",
      "---  ------       --------------  -----         \n",
      " 0   Date         500 non-null    datetime64[ns]\n",
      " 1   Time         500 non-null    datetime64[ns]\n",
      " 2   Customer_ID  500 non-null    int64         \n",
      " 3   Item         500 non-null    object        \n",
      "dtypes: datetime64[ns](2), int64(1), object(1)\n",
      "memory usage: 15.8+ KB\n"
     ]
    }
   ],
   "source": [
    "data.info()"
   ]
  },
  {
   "cell_type": "code",
   "execution_count": 13,
   "id": "2b6b10c1",
   "metadata": {},
   "outputs": [
    {
     "data": {
      "text/html": [
       "<div>\n",
       "<style scoped>\n",
       "    .dataframe tbody tr th:only-of-type {\n",
       "        vertical-align: middle;\n",
       "    }\n",
       "\n",
       "    .dataframe tbody tr th {\n",
       "        vertical-align: top;\n",
       "    }\n",
       "\n",
       "    .dataframe thead th {\n",
       "        text-align: right;\n",
       "    }\n",
       "</style>\n",
       "<table border=\"1\" class=\"dataframe\">\n",
       "  <thead>\n",
       "    <tr style=\"text-align: right;\">\n",
       "      <th></th>\n",
       "      <th>Date</th>\n",
       "      <th>Time</th>\n",
       "      <th>Customer_ID</th>\n",
       "      <th>Item</th>\n",
       "    </tr>\n",
       "  </thead>\n",
       "  <tbody>\n",
       "    <tr>\n",
       "      <th>0</th>\n",
       "      <td>2017-01-02</td>\n",
       "      <td>2021-07-11 01:47:28.279733</td>\n",
       "      <td>55853434</td>\n",
       "      <td>Palak Paneer</td>\n",
       "    </tr>\n",
       "    <tr>\n",
       "      <th>1</th>\n",
       "      <td>2017-01-08</td>\n",
       "      <td>2021-07-11 13:12:29.726141</td>\n",
       "      <td>29718647</td>\n",
       "      <td>Palak Aloo</td>\n",
       "    </tr>\n",
       "    <tr>\n",
       "      <th>2</th>\n",
       "      <td>2017-01-11</td>\n",
       "      <td>2021-07-11 14:06:23.304466</td>\n",
       "      <td>18142412</td>\n",
       "      <td>Roti</td>\n",
       "    </tr>\n",
       "    <tr>\n",
       "      <th>3</th>\n",
       "      <td>2017-01-17</td>\n",
       "      <td>2021-07-11 00:29:55.890029</td>\n",
       "      <td>34176848</td>\n",
       "      <td>Dal Tadka</td>\n",
       "    </tr>\n",
       "    <tr>\n",
       "      <th>4</th>\n",
       "      <td>2017-01-17</td>\n",
       "      <td>2021-07-11 06:12:39.712888</td>\n",
       "      <td>49263612</td>\n",
       "      <td>Shabnam Curry</td>\n",
       "    </tr>\n",
       "  </tbody>\n",
       "</table>\n",
       "</div>"
      ],
      "text/plain": [
       "        Date                       Time  Customer_ID           Item\n",
       "0 2017-01-02 2021-07-11 01:47:28.279733     55853434   Palak Paneer\n",
       "1 2017-01-08 2021-07-11 13:12:29.726141     29718647     Palak Aloo\n",
       "2 2017-01-11 2021-07-11 14:06:23.304466     18142412           Roti\n",
       "3 2017-01-17 2021-07-11 00:29:55.890029     34176848      Dal Tadka\n",
       "4 2017-01-17 2021-07-11 06:12:39.712888     49263612  Shabnam Curry"
      ]
     },
     "execution_count": 13,
     "metadata": {},
     "output_type": "execute_result"
    }
   ],
   "source": [
    "data.head()"
   ]
  },
  {
   "cell_type": "code",
   "execution_count": 14,
   "id": "f9bab9d4",
   "metadata": {},
   "outputs": [
    {
     "data": {
      "text/plain": [
       "array(['Palak Paneer', 'Palak Aloo', 'Roti', 'Dal Tadka', 'Shabnam Curry',\n",
       "       'Garlic Naan', 'Naan', 'Chana Paneer', 'Achari Paneer',\n",
       "       'Aloo Gobi', 'Paneer Makhani', 'Paneer Butter Masala',\n",
       "       'Dal Makhani', 'Chana Masala', 'Vegetable Green Masala',\n",
       "       'Bhindi Masala', 'Malai Kofta', 'Paneer Shahi Korma', 'Aloo Matar',\n",
       "       'Matar Paneer', 'Paratha', 'Mixed Vegetable Curry',\n",
       "       'Baigan Bharta', 'Navratan Korma', 'Mixed Vegetable Vindaloo'],\n",
       "      dtype=object)"
      ]
     },
     "execution_count": 14,
     "metadata": {},
     "output_type": "execute_result"
    }
   ],
   "source": [
    "data.Item.unique()"
   ]
  },
  {
   "cell_type": "code",
   "execution_count": null,
   "id": "3fec44f2",
   "metadata": {},
   "outputs": [],
   "source": [
    "Items = {'Palak Paneer', 'Palak Aloo', 'Roti', 'Dal Tadka', 'Shabnam Curry',\n",
    "       'Garlic Naan', 'Naan', 'Chana Paneer', 'Achari Paneer',\n",
    "       'Aloo Gobi', 'Paneer Makhani', 'Paneer Butter Masala',\n",
    "       'Dal Makhani', 'Chana Masala', 'Vegetable Green Masala',\n",
    "       'Bhindi Masala', 'Malai Kofta', 'Paneer Shahi Korma', 'Aloo Matar',\n",
    "       'Matar Paneer', 'Paratha', 'Mixed Vegetable Curry',\n",
    "       'Baigan Bharta', 'Navratan Korma', 'Mixed Vegetable Vindaloo'}"
   ]
  }
 ],
 "metadata": {
  "kernelspec": {
   "display_name": "Python 3",
   "language": "python",
   "name": "python3"
  },
  "language_info": {
   "codemirror_mode": {
    "name": "ipython",
    "version": 3
   },
   "file_extension": ".py",
   "mimetype": "text/x-python",
   "name": "python",
   "nbconvert_exporter": "python",
   "pygments_lexer": "ipython3",
   "version": "3.9.5"
  }
 },
 "nbformat": 4,
 "nbformat_minor": 5
}
