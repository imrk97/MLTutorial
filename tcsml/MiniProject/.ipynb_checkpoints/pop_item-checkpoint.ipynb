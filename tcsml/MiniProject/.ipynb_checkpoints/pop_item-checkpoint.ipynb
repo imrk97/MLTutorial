{
 "cells": [
  {
   "cell_type": "code",
   "execution_count": 1,
   "id": "9e356d95",
   "metadata": {},
   "outputs": [],
   "source": [
    "import numpy as np\n",
    "import pandas as pd\n",
    "import matplotlib.pyplot as plt\n",
    "import seaborn as sns"
   ]
  },
  {
   "cell_type": "code",
   "execution_count": 43,
   "id": "1d473496",
   "metadata": {},
   "outputs": [],
   "source": [
    "data = pd.read_csv('final_test.csv')"
   ]
  },
  {
   "cell_type": "code",
   "execution_count": 44,
   "id": "4441423d",
   "metadata": {},
   "outputs": [
    {
     "data": {
      "text/html": [
       "<div>\n",
       "<style scoped>\n",
       "    .dataframe tbody tr th:only-of-type {\n",
       "        vertical-align: middle;\n",
       "    }\n",
       "\n",
       "    .dataframe tbody tr th {\n",
       "        vertical-align: top;\n",
       "    }\n",
       "\n",
       "    .dataframe thead th {\n",
       "        text-align: right;\n",
       "    }\n",
       "</style>\n",
       "<table border=\"1\" class=\"dataframe\">\n",
       "  <thead>\n",
       "    <tr style=\"text-align: right;\">\n",
       "      <th></th>\n",
       "      <th>Unnamed: 0</th>\n",
       "      <th>Date</th>\n",
       "      <th>Time</th>\n",
       "      <th>Customer_ID</th>\n",
       "      <th>Item</th>\n",
       "      <th>Price</th>\n",
       "    </tr>\n",
       "  </thead>\n",
       "  <tbody>\n",
       "    <tr>\n",
       "      <th>0</th>\n",
       "      <td>0</td>\n",
       "      <td>2017-01-02</td>\n",
       "      <td>01:47:28.279733</td>\n",
       "      <td>55853434</td>\n",
       "      <td>Palak Paneer</td>\n",
       "      <td>13.99</td>\n",
       "    </tr>\n",
       "    <tr>\n",
       "      <th>1</th>\n",
       "      <td>1</td>\n",
       "      <td>2017-08-22</td>\n",
       "      <td>06:08:32.706846</td>\n",
       "      <td>77323444</td>\n",
       "      <td>Palak Paneer</td>\n",
       "      <td>13.99</td>\n",
       "    </tr>\n",
       "    <tr>\n",
       "      <th>2</th>\n",
       "      <td>2</td>\n",
       "      <td>2017-09-21</td>\n",
       "      <td>21:09:41.909356</td>\n",
       "      <td>48184485</td>\n",
       "      <td>Palak Paneer</td>\n",
       "      <td>13.99</td>\n",
       "    </tr>\n",
       "    <tr>\n",
       "      <th>3</th>\n",
       "      <td>3</td>\n",
       "      <td>2018-01-22</td>\n",
       "      <td>05:45:49.305961</td>\n",
       "      <td>26914398</td>\n",
       "      <td>Palak Paneer</td>\n",
       "      <td>13.99</td>\n",
       "    </tr>\n",
       "    <tr>\n",
       "      <th>4</th>\n",
       "      <td>4</td>\n",
       "      <td>2018-05-14</td>\n",
       "      <td>21:08:35.321084</td>\n",
       "      <td>94936579</td>\n",
       "      <td>Palak Paneer</td>\n",
       "      <td>13.99</td>\n",
       "    </tr>\n",
       "  </tbody>\n",
       "</table>\n",
       "</div>"
      ],
      "text/plain": [
       "   Unnamed: 0        Date             Time  Customer_ID          Item  Price\n",
       "0           0  2017-01-02  01:47:28.279733     55853434  Palak Paneer  13.99\n",
       "1           1  2017-08-22  06:08:32.706846     77323444  Palak Paneer  13.99\n",
       "2           2  2017-09-21  21:09:41.909356     48184485  Palak Paneer  13.99\n",
       "3           3  2018-01-22  05:45:49.305961     26914398  Palak Paneer  13.99\n",
       "4           4  2018-05-14  21:08:35.321084     94936579  Palak Paneer  13.99"
      ]
     },
     "execution_count": 44,
     "metadata": {},
     "output_type": "execute_result"
    }
   ],
   "source": [
    "data.head()"
   ]
  },
  {
   "cell_type": "code",
   "execution_count": 45,
   "id": "2337515f",
   "metadata": {},
   "outputs": [],
   "source": [
    "data.drop('Unnamed: 0',axis = 1, inplace=True)\n",
    "data['Date'] = pd.to_datetime(data['Date'])"
   ]
  },
  {
   "cell_type": "code",
   "execution_count": 46,
   "id": "0d7f6acb",
   "metadata": {},
   "outputs": [
    {
     "data": {
      "text/html": [
       "<div>\n",
       "<style scoped>\n",
       "    .dataframe tbody tr th:only-of-type {\n",
       "        vertical-align: middle;\n",
       "    }\n",
       "\n",
       "    .dataframe tbody tr th {\n",
       "        vertical-align: top;\n",
       "    }\n",
       "\n",
       "    .dataframe thead th {\n",
       "        text-align: right;\n",
       "    }\n",
       "</style>\n",
       "<table border=\"1\" class=\"dataframe\">\n",
       "  <thead>\n",
       "    <tr style=\"text-align: right;\">\n",
       "      <th></th>\n",
       "      <th>Date</th>\n",
       "      <th>Time</th>\n",
       "      <th>Customer_ID</th>\n",
       "      <th>Item</th>\n",
       "      <th>Price</th>\n",
       "    </tr>\n",
       "  </thead>\n",
       "  <tbody>\n",
       "    <tr>\n",
       "      <th>0</th>\n",
       "      <td>2017-01-02</td>\n",
       "      <td>01:47:28.279733</td>\n",
       "      <td>55853434</td>\n",
       "      <td>Palak Paneer</td>\n",
       "      <td>13.99</td>\n",
       "    </tr>\n",
       "    <tr>\n",
       "      <th>1</th>\n",
       "      <td>2017-08-22</td>\n",
       "      <td>06:08:32.706846</td>\n",
       "      <td>77323444</td>\n",
       "      <td>Palak Paneer</td>\n",
       "      <td>13.99</td>\n",
       "    </tr>\n",
       "    <tr>\n",
       "      <th>2</th>\n",
       "      <td>2017-09-21</td>\n",
       "      <td>21:09:41.909356</td>\n",
       "      <td>48184485</td>\n",
       "      <td>Palak Paneer</td>\n",
       "      <td>13.99</td>\n",
       "    </tr>\n",
       "    <tr>\n",
       "      <th>3</th>\n",
       "      <td>2018-01-22</td>\n",
       "      <td>05:45:49.305961</td>\n",
       "      <td>26914398</td>\n",
       "      <td>Palak Paneer</td>\n",
       "      <td>13.99</td>\n",
       "    </tr>\n",
       "    <tr>\n",
       "      <th>4</th>\n",
       "      <td>2018-05-14</td>\n",
       "      <td>21:08:35.321084</td>\n",
       "      <td>94936579</td>\n",
       "      <td>Palak Paneer</td>\n",
       "      <td>13.99</td>\n",
       "    </tr>\n",
       "  </tbody>\n",
       "</table>\n",
       "</div>"
      ],
      "text/plain": [
       "        Date             Time  Customer_ID          Item  Price\n",
       "0 2017-01-02  01:47:28.279733     55853434  Palak Paneer  13.99\n",
       "1 2017-08-22  06:08:32.706846     77323444  Palak Paneer  13.99\n",
       "2 2017-09-21  21:09:41.909356     48184485  Palak Paneer  13.99\n",
       "3 2018-01-22  05:45:49.305961     26914398  Palak Paneer  13.99\n",
       "4 2018-05-14  21:08:35.321084     94936579  Palak Paneer  13.99"
      ]
     },
     "execution_count": 46,
     "metadata": {},
     "output_type": "execute_result"
    }
   ],
   "source": [
    "data.head()"
   ]
  },
  {
   "cell_type": "code",
   "execution_count": 47,
   "id": "6ccda52c",
   "metadata": {},
   "outputs": [],
   "source": [
    "import datetime\n",
    "data1 = data[data['Date']>= datetime.datetime(2020,7,5)]\n",
    "data2 = data[data[\"Date\"]<=datetime.datetime(2020,7,5)+ datetime.timedelta(days = 84)]"
   ]
  },
  {
   "cell_type": "code",
   "execution_count": 48,
   "id": "3e1d9133",
   "metadata": {},
   "outputs": [
    {
     "data": {
      "text/plain": [
       "(152, 5)"
      ]
     },
     "execution_count": 48,
     "metadata": {},
     "output_type": "execute_result"
    }
   ],
   "source": [
    "data1.shape"
   ]
  },
  {
   "cell_type": "code",
   "execution_count": 49,
   "id": "c4d1ea53",
   "metadata": {},
   "outputs": [
    {
     "data": {
      "text/plain": [
       "(367, 5)"
      ]
     },
     "execution_count": 49,
     "metadata": {},
     "output_type": "execute_result"
    }
   ],
   "source": [
    "data2.shape"
   ]
  },
  {
   "cell_type": "code",
   "execution_count": 50,
   "id": "be5595b5",
   "metadata": {},
   "outputs": [],
   "source": [
    "int_df = pd.merge(data1, data2, how ='inner', on = ['Date', 'Time', 'Customer_ID', 'Item'])\n"
   ]
  },
  {
   "cell_type": "code",
   "execution_count": 51,
   "id": "3eacc32f",
   "metadata": {},
   "outputs": [
    {
     "data": {
      "text/html": [
       "<div>\n",
       "<style scoped>\n",
       "    .dataframe tbody tr th:only-of-type {\n",
       "        vertical-align: middle;\n",
       "    }\n",
       "\n",
       "    .dataframe tbody tr th {\n",
       "        vertical-align: top;\n",
       "    }\n",
       "\n",
       "    .dataframe thead th {\n",
       "        text-align: right;\n",
       "    }\n",
       "</style>\n",
       "<table border=\"1\" class=\"dataframe\">\n",
       "  <thead>\n",
       "    <tr style=\"text-align: right;\">\n",
       "      <th></th>\n",
       "      <th>Date</th>\n",
       "      <th>Time</th>\n",
       "      <th>Customer_ID</th>\n",
       "      <th>Item</th>\n",
       "      <th>Price_x</th>\n",
       "      <th>Price_y</th>\n",
       "    </tr>\n",
       "  </thead>\n",
       "  <tbody>\n",
       "    <tr>\n",
       "      <th>0</th>\n",
       "      <td>2020-08-22</td>\n",
       "      <td>06:49:07.090896</td>\n",
       "      <td>93559837</td>\n",
       "      <td>Palak Aloo</td>\n",
       "      <td>11.99</td>\n",
       "      <td>11.99</td>\n",
       "    </tr>\n",
       "    <tr>\n",
       "      <th>1</th>\n",
       "      <td>2020-09-02</td>\n",
       "      <td>01:13:05.898726</td>\n",
       "      <td>45632746</td>\n",
       "      <td>Palak Aloo</td>\n",
       "      <td>11.99</td>\n",
       "      <td>11.99</td>\n",
       "    </tr>\n",
       "    <tr>\n",
       "      <th>2</th>\n",
       "      <td>2020-08-22</td>\n",
       "      <td>19:02:58.053389</td>\n",
       "      <td>48184485</td>\n",
       "      <td>Roti</td>\n",
       "      <td>2.99</td>\n",
       "      <td>2.99</td>\n",
       "    </tr>\n",
       "    <tr>\n",
       "      <th>3</th>\n",
       "      <td>2020-08-10</td>\n",
       "      <td>09:56:32.590594</td>\n",
       "      <td>94538685</td>\n",
       "      <td>Dal Tadka</td>\n",
       "      <td>11.99</td>\n",
       "      <td>11.99</td>\n",
       "    </tr>\n",
       "    <tr>\n",
       "      <th>4</th>\n",
       "      <td>2020-08-26</td>\n",
       "      <td>21:27:23.668934</td>\n",
       "      <td>49263612</td>\n",
       "      <td>Naan</td>\n",
       "      <td>2.99</td>\n",
       "      <td>2.99</td>\n",
       "    </tr>\n",
       "  </tbody>\n",
       "</table>\n",
       "</div>"
      ],
      "text/plain": [
       "        Date             Time  Customer_ID        Item  Price_x  Price_y\n",
       "0 2020-08-22  06:49:07.090896     93559837  Palak Aloo    11.99    11.99\n",
       "1 2020-09-02  01:13:05.898726     45632746  Palak Aloo    11.99    11.99\n",
       "2 2020-08-22  19:02:58.053389     48184485        Roti     2.99     2.99\n",
       "3 2020-08-10  09:56:32.590594     94538685   Dal Tadka    11.99    11.99\n",
       "4 2020-08-26  21:27:23.668934     49263612        Naan     2.99     2.99"
      ]
     },
     "execution_count": 51,
     "metadata": {},
     "output_type": "execute_result"
    }
   ],
   "source": [
    "int_df.head()"
   ]
  },
  {
   "cell_type": "code",
   "execution_count": 52,
   "id": "5376e8d6",
   "metadata": {},
   "outputs": [
    {
     "data": {
      "text/plain": [
       "<AxesSubplot:xlabel='Item', ylabel='count'>"
      ]
     },
     "execution_count": 52,
     "metadata": {},
     "output_type": "execute_result"
    },
    {
     "data": {
      "image/png": "[encoded data removed]",
      "text/plain": [
       "<Figure size 432x288 with 1 Axes>"
      ]
     },
     "metadata": {
      "needs_background": "light"
     },
     "output_type": "display_data"
    }
   ],
   "source": [
    "sns.countplot(x='Item', data = int_df, order = int_df['Item'].value_counts().iloc[:5].index)"
   ]
  },
  {
   "cell_type": "code",
   "execution_count": 53,
   "id": "8f9e1935",
   "metadata": {},
   "outputs": [
    {
     "data": {
      "text/plain": [
       "numpy.int64"
      ]
     },
     "execution_count": 53,
     "metadata": {},
     "output_type": "execute_result"
    }
   ],
   "source": [
    "type(int_df['Item'].value_counts().max())"
   ]
  },
  {
   "cell_type": "code",
   "execution_count": 54,
   "id": "8e0e6d49",
   "metadata": {},
   "outputs": [
    {
     "data": {
      "text/plain": [
       "'Palak Aloo'"
      ]
     },
     "execution_count": 54,
     "metadata": {},
     "output_type": "execute_result"
    }
   ],
   "source": [
    "str(int_df['Item'].value_counts().iloc[:1].index[0])"
   ]
  },
  {
   "cell_type": "code",
   "execution_count": null,
   "id": "000e3d07",
   "metadata": {},
   "outputs": [],
   "source": []
  },
  {
   "cell_type": "code",
   "execution_count": null,
   "id": "3af4cff1",
   "metadata": {},
   "outputs": [],
   "source": []
  }
 ],
 "metadata": {
  "kernelspec": {
   "display_name": "Python 3",
   "language": "python",
   "name": "python3"
  },
  "language_info": {
   "codemirror_mode": {
    "name": "ipython",
    "version": 3
   },
   "file_extension": ".py",
   "mimetype": "text/x-python",
   "name": "python",
   "nbconvert_exporter": "python",
   "pygments_lexer": "ipython3",
   "version": "3.9.5"
  }
 },
 "nbformat": 4,
 "nbformat_minor": 5
}
