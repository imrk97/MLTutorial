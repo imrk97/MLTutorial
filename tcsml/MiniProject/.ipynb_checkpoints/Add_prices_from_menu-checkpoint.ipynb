{
 "cells": [
  {
   "cell_type": "code",
   "execution_count": 24,
   "id": "66e60d11",
   "metadata": {},
   "outputs": [],
   "source": [
    "import pandas as pd\n",
    "import seaborn as sns"
   ]
  },
  {
   "cell_type": "code",
   "execution_count": 25,
   "id": "4bc51208",
   "metadata": {},
   "outputs": [],
   "source": [
    "data = pd.read_csv(\"Dataset_proj1.csv\")"
   ]
  },
  {
   "cell_type": "code",
   "execution_count": 26,
   "id": "27edc3ed",
   "metadata": {},
   "outputs": [
    {
     "name": "stdout",
     "output_type": "stream",
     "text": [
      "<class 'pandas.core.frame.DataFrame'>\n",
      "RangeIndex: 500 entries, 0 to 499\n",
      "Data columns (total 5 columns):\n",
      " #   Column       Non-Null Count  Dtype \n",
      "---  ------       --------------  ----- \n",
      " 0   Unnamed: 0   500 non-null    int64 \n",
      " 1   Date         500 non-null    object\n",
      " 2   Time         500 non-null    object\n",
      " 3   Customer_ID  500 non-null    int64 \n",
      " 4   Item         500 non-null    object\n",
      "dtypes: int64(2), object(3)\n",
      "memory usage: 19.7+ KB\n"
     ]
    }
   ],
   "source": [
    "data.info()"
   ]
  },
  {
   "cell_type": "code",
   "execution_count": 27,
   "id": "412a6178",
   "metadata": {},
   "outputs": [],
   "source": [
    "data.drop('Unnamed: 0',axis = 1, inplace=True)\n",
    "\n",
    "data['Date'] = pd.to_datetime(data['Date'])"
   ]
  },
  {
   "cell_type": "code",
   "execution_count": 28,
   "id": "7ab4390c",
   "metadata": {},
   "outputs": [
    {
     "name": "stdout",
     "output_type": "stream",
     "text": [
      "<class 'pandas.core.frame.DataFrame'>\n",
      "RangeIndex: 500 entries, 0 to 499\n",
      "Data columns (total 4 columns):\n",
      " #   Column       Non-Null Count  Dtype         \n",
      "---  ------       --------------  -----         \n",
      " 0   Date         500 non-null    datetime64[ns]\n",
      " 1   Time         500 non-null    object        \n",
      " 2   Customer_ID  500 non-null    int64         \n",
      " 3   Item         500 non-null    object        \n",
      "dtypes: datetime64[ns](1), int64(1), object(2)\n",
      "memory usage: 15.8+ KB\n"
     ]
    }
   ],
   "source": [
    "data.info()"
   ]
  },
  {
   "cell_type": "code",
   "execution_count": 29,
   "id": "03c56621",
   "metadata": {},
   "outputs": [
    {
     "data": {
      "text/html": [
       "<div>\n",
       "<style scoped>\n",
       "    .dataframe tbody tr th:only-of-type {\n",
       "        vertical-align: middle;\n",
       "    }\n",
       "\n",
       "    .dataframe tbody tr th {\n",
       "        vertical-align: top;\n",
       "    }\n",
       "\n",
       "    .dataframe thead th {\n",
       "        text-align: right;\n",
       "    }\n",
       "</style>\n",
       "<table border=\"1\" class=\"dataframe\">\n",
       "  <thead>\n",
       "    <tr style=\"text-align: right;\">\n",
       "      <th></th>\n",
       "      <th>Date</th>\n",
       "      <th>Time</th>\n",
       "      <th>Customer_ID</th>\n",
       "      <th>Item</th>\n",
       "    </tr>\n",
       "  </thead>\n",
       "  <tbody>\n",
       "    <tr>\n",
       "      <th>0</th>\n",
       "      <td>2017-01-02</td>\n",
       "      <td>01:47:28.279733</td>\n",
       "      <td>55853434</td>\n",
       "      <td>Palak Paneer</td>\n",
       "    </tr>\n",
       "    <tr>\n",
       "      <th>1</th>\n",
       "      <td>2017-01-08</td>\n",
       "      <td>13:12:29.726141</td>\n",
       "      <td>29718647</td>\n",
       "      <td>Palak Aloo</td>\n",
       "    </tr>\n",
       "    <tr>\n",
       "      <th>2</th>\n",
       "      <td>2017-01-11</td>\n",
       "      <td>14:06:23.304466</td>\n",
       "      <td>18142412</td>\n",
       "      <td>Roti</td>\n",
       "    </tr>\n",
       "    <tr>\n",
       "      <th>3</th>\n",
       "      <td>2017-01-17</td>\n",
       "      <td>00:29:55.890029</td>\n",
       "      <td>34176848</td>\n",
       "      <td>Dal Tadka</td>\n",
       "    </tr>\n",
       "    <tr>\n",
       "      <th>4</th>\n",
       "      <td>2017-01-17</td>\n",
       "      <td>06:12:39.712888</td>\n",
       "      <td>49263612</td>\n",
       "      <td>Shabnam Curry</td>\n",
       "    </tr>\n",
       "  </tbody>\n",
       "</table>\n",
       "</div>"
      ],
      "text/plain": [
       "        Date             Time  Customer_ID           Item\n",
       "0 2017-01-02  01:47:28.279733     55853434   Palak Paneer\n",
       "1 2017-01-08  13:12:29.726141     29718647     Palak Aloo\n",
       "2 2017-01-11  14:06:23.304466     18142412           Roti\n",
       "3 2017-01-17  00:29:55.890029     34176848      Dal Tadka\n",
       "4 2017-01-17  06:12:39.712888     49263612  Shabnam Curry"
      ]
     },
     "execution_count": 29,
     "metadata": {},
     "output_type": "execute_result"
    }
   ],
   "source": [
    "data.head()"
   ]
  },
  {
   "cell_type": "code",
   "execution_count": 30,
   "id": "df0721e3",
   "metadata": {},
   "outputs": [],
   "source": [
    "menu = pd.read_csv(\"Menu.csv\")"
   ]
  },
  {
   "cell_type": "code",
   "execution_count": 31,
   "id": "abb258f1",
   "metadata": {},
   "outputs": [
    {
     "name": "stdout",
     "output_type": "stream",
     "text": [
      "<class 'pandas.core.frame.DataFrame'>\n",
      "RangeIndex: 25 entries, 0 to 24\n",
      "Data columns (total 2 columns):\n",
      " #   Column  Non-Null Count  Dtype  \n",
      "---  ------  --------------  -----  \n",
      " 0   Item    25 non-null     object \n",
      " 1   Price   25 non-null     float64\n",
      "dtypes: float64(1), object(1)\n",
      "memory usage: 528.0+ bytes\n"
     ]
    }
   ],
   "source": [
    "menu.info()"
   ]
  },
  {
   "cell_type": "code",
   "execution_count": 32,
   "id": "0fe1d92b",
   "metadata": {},
   "outputs": [
    {
     "data": {
      "text/html": [
       "<div>\n",
       "<style scoped>\n",
       "    .dataframe tbody tr th:only-of-type {\n",
       "        vertical-align: middle;\n",
       "    }\n",
       "\n",
       "    .dataframe tbody tr th {\n",
       "        vertical-align: top;\n",
       "    }\n",
       "\n",
       "    .dataframe thead th {\n",
       "        text-align: right;\n",
       "    }\n",
       "</style>\n",
       "<table border=\"1\" class=\"dataframe\">\n",
       "  <thead>\n",
       "    <tr style=\"text-align: right;\">\n",
       "      <th></th>\n",
       "      <th>Item</th>\n",
       "      <th>Price</th>\n",
       "    </tr>\n",
       "  </thead>\n",
       "  <tbody>\n",
       "    <tr>\n",
       "      <th>0</th>\n",
       "      <td>Mixed Vegetable Curry</td>\n",
       "      <td>11.99</td>\n",
       "    </tr>\n",
       "    <tr>\n",
       "      <th>1</th>\n",
       "      <td>Dal Tadka</td>\n",
       "      <td>11.99</td>\n",
       "    </tr>\n",
       "    <tr>\n",
       "      <th>2</th>\n",
       "      <td>Mixed Vegetable Vindaloo</td>\n",
       "      <td>11.99</td>\n",
       "    </tr>\n",
       "    <tr>\n",
       "      <th>3</th>\n",
       "      <td>Aloo Matar</td>\n",
       "      <td>11.99</td>\n",
       "    </tr>\n",
       "    <tr>\n",
       "      <th>4</th>\n",
       "      <td>Chana Masala</td>\n",
       "      <td>11.99</td>\n",
       "    </tr>\n",
       "  </tbody>\n",
       "</table>\n",
       "</div>"
      ],
      "text/plain": [
       "                       Item  Price\n",
       "0     Mixed Vegetable Curry  11.99\n",
       "1                 Dal Tadka  11.99\n",
       "2  Mixed Vegetable Vindaloo  11.99\n",
       "3                Aloo Matar  11.99\n",
       "4              Chana Masala  11.99"
      ]
     },
     "execution_count": 32,
     "metadata": {},
     "output_type": "execute_result"
    }
   ],
   "source": [
    "menu.head()"
   ]
  },
  {
   "cell_type": "code",
   "execution_count": 42,
   "id": "8c6fab29",
   "metadata": {},
   "outputs": [],
   "source": [
    "final_df = pd.merge(data, menu, how ='inner', on =['Item'])"
   ]
  },
  {
   "cell_type": "code",
   "execution_count": 43,
   "id": "7125a718",
   "metadata": {},
   "outputs": [
    {
     "data": {
      "text/html": [
       "<div>\n",
       "<style scoped>\n",
       "    .dataframe tbody tr th:only-of-type {\n",
       "        vertical-align: middle;\n",
       "    }\n",
       "\n",
       "    .dataframe tbody tr th {\n",
       "        vertical-align: top;\n",
       "    }\n",
       "\n",
       "    .dataframe thead th {\n",
       "        text-align: right;\n",
       "    }\n",
       "</style>\n",
       "<table border=\"1\" class=\"dataframe\">\n",
       "  <thead>\n",
       "    <tr style=\"text-align: right;\">\n",
       "      <th></th>\n",
       "      <th>Date</th>\n",
       "      <th>Time</th>\n",
       "      <th>Customer_ID</th>\n",
       "      <th>Item</th>\n",
       "      <th>Price</th>\n",
       "    </tr>\n",
       "  </thead>\n",
       "  <tbody>\n",
       "    <tr>\n",
       "      <th>0</th>\n",
       "      <td>2017-01-02</td>\n",
       "      <td>01:47:28.279733</td>\n",
       "      <td>55853434</td>\n",
       "      <td>Palak Paneer</td>\n",
       "      <td>13.99</td>\n",
       "    </tr>\n",
       "    <tr>\n",
       "      <th>1</th>\n",
       "      <td>2017-08-22</td>\n",
       "      <td>06:08:32.706846</td>\n",
       "      <td>77323444</td>\n",
       "      <td>Palak Paneer</td>\n",
       "      <td>13.99</td>\n",
       "    </tr>\n",
       "    <tr>\n",
       "      <th>2</th>\n",
       "      <td>2017-09-21</td>\n",
       "      <td>21:09:41.909356</td>\n",
       "      <td>48184485</td>\n",
       "      <td>Palak Paneer</td>\n",
       "      <td>13.99</td>\n",
       "    </tr>\n",
       "    <tr>\n",
       "      <th>3</th>\n",
       "      <td>2018-01-22</td>\n",
       "      <td>05:45:49.305961</td>\n",
       "      <td>26914398</td>\n",
       "      <td>Palak Paneer</td>\n",
       "      <td>13.99</td>\n",
       "    </tr>\n",
       "    <tr>\n",
       "      <th>4</th>\n",
       "      <td>2018-05-14</td>\n",
       "      <td>21:08:35.321084</td>\n",
       "      <td>94936579</td>\n",
       "      <td>Palak Paneer</td>\n",
       "      <td>13.99</td>\n",
       "    </tr>\n",
       "  </tbody>\n",
       "</table>\n",
       "</div>"
      ],
      "text/plain": [
       "        Date             Time  Customer_ID          Item  Price\n",
       "0 2017-01-02  01:47:28.279733     55853434  Palak Paneer  13.99\n",
       "1 2017-08-22  06:08:32.706846     77323444  Palak Paneer  13.99\n",
       "2 2017-09-21  21:09:41.909356     48184485  Palak Paneer  13.99\n",
       "3 2018-01-22  05:45:49.305961     26914398  Palak Paneer  13.99\n",
       "4 2018-05-14  21:08:35.321084     94936579  Palak Paneer  13.99"
      ]
     },
     "execution_count": 43,
     "metadata": {},
     "output_type": "execute_result"
    }
   ],
   "source": [
    "final_df.head()"
   ]
  },
  {
   "cell_type": "code",
   "execution_count": 36,
   "id": "dcd1c874",
   "metadata": {},
   "outputs": [],
   "source": [
    "final_df.to_csv(\"final_test.csv\")"
   ]
  },
  {
   "cell_type": "code",
   "execution_count": 37,
   "id": "079e9a43",
   "metadata": {},
   "outputs": [
    {
     "data": {
      "text/plain": [
       "<AxesSubplot:xlabel='Item', ylabel='count'>"
      ]
     },
     "execution_count": 37,
     "metadata": {},
     "output_type": "execute_result"
    },
    {
     "data": {
      "image/png": "[encoded data removed]",
      "text/plain": [
       "<Figure size 432x288 with 1 Axes>"
      ]
     },
     "metadata": {
      "needs_background": "light"
     },
     "output_type": "display_data"
    }
   ],
   "source": [
    "sns.countplot(x = 'Item', data = final_df)"
   ]
  },
  {
   "cell_type": "code",
   "execution_count": 38,
   "id": "1b3f7c80",
   "metadata": {},
   "outputs": [
    {
     "data": {
      "text/plain": [
       "<AxesSubplot:xlabel='Item', ylabel='count'>"
      ]
     },
     "execution_count": 38,
     "metadata": {},
     "output_type": "execute_result"
    },
    {
     "data": {
      "image/png": "[encoded data removed]",
      "text/plain": [
       "<Figure size 432x288 with 1 Axes>"
      ]
     },
     "metadata": {
      "needs_background": "light"
     },
     "output_type": "display_data"
    }
   ],
   "source": [
    "sns.countplot(x = 'Item', data = data)"
   ]
  },
  {
   "cell_type": "code",
   "execution_count": 44,
   "id": "47b572c6",
   "metadata": {},
   "outputs": [
    {
     "name": "stdout",
     "output_type": "stream",
     "text": [
      "<class 'pandas.core.frame.DataFrame'>\n",
      "Int64Index: 500 entries, 0 to 499\n",
      "Data columns (total 5 columns):\n",
      " #   Column       Non-Null Count  Dtype         \n",
      "---  ------       --------------  -----         \n",
      " 0   Date         500 non-null    datetime64[ns]\n",
      " 1   Time         500 non-null    object        \n",
      " 2   Customer_ID  500 non-null    int64         \n",
      " 3   Item         500 non-null    object        \n",
      " 4   Price        500 non-null    float64       \n",
      "dtypes: datetime64[ns](1), float64(1), int64(1), object(2)\n",
      "memory usage: 23.4+ KB\n"
     ]
    }
   ],
   "source": [
    "final_df.info()"
   ]
  },
  {
   "cell_type": "code",
   "execution_count": null,
   "id": "81566c0f",
   "metadata": {},
   "outputs": [],
   "source": []
  }
 ],
 "metadata": {
  "kernelspec": {
   "display_name": "Python 3",
   "language": "python",
   "name": "python3"
  },
  "language_info": {
   "codemirror_mode": {
    "name": "ipython",
    "version": 3
   },
   "file_extension": ".py",
   "mimetype": "text/x-python",
   "name": "python",
   "nbconvert_exporter": "python",
   "pygments_lexer": "ipython3",
   "version": "3.9.5"
  }
 },
 "nbformat": 4,
 "nbformat_minor": 5
}
