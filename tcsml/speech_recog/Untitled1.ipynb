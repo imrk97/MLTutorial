{
 "cells": [
  {
   "cell_type": "code",
   "execution_count": 1,
   "id": "23aa1f9f",
   "metadata": {},
   "outputs": [],
   "source": [
    "from deepspeech import Model\n",
    "import numpy as np\n",
    "import os\n",
    "import wave\n",
    "import json\n",
    "\n",
    "from IPython.display import Audio"
   ]
  },
  {
   "cell_type": "code",
   "execution_count": 2,
   "id": "733505a7",
   "metadata": {},
   "outputs": [],
   "source": [
    "model_file_path = 'C:/Users/rohan/Downloads/deepspeech-0.9.3-models.pbmm'\n",
    "lm_file_path = 'C:/Users/rohan/Downloads/deepspeech-0.9.3-models.scorer'\n",
    "beam_width = 100\n",
    "lm_alpha = 0.93\n",
    "lm_beta = 1.18\n",
    "\n",
    "model = Model(model_file_path)\n",
    "model.enableExternalScorer(lm_file_path)"
   ]
  },
  {
   "cell_type": "code",
   "execution_count": 3,
   "id": "792c0073",
   "metadata": {},
   "outputs": [
    {
     "data": {
      "text/plain": [
       "0"
      ]
     },
     "execution_count": 3,
     "metadata": {},
     "output_type": "execute_result"
    }
   ],
   "source": [
    "model.setScorerAlphaBeta(lm_alpha, lm_beta)\n",
    "model.setBeamWidth(beam_width)"
   ]
  },
  {
   "cell_type": "code",
   "execution_count": 4,
   "id": "8c51c29b",
   "metadata": {},
   "outputs": [],
   "source": [
    "stream = model.createStream()"
   ]
  },
  {
   "cell_type": "code",
   "execution_count": 5,
   "id": "c57cb50f",
   "metadata": {},
   "outputs": [],
   "source": [
    "def read_wav_file(filename):\n",
    "    with wave.open(filename, 'rb') as w:\n",
    "        rate = w.getframerate()\n",
    "        frames = w.getnframes()\n",
    "        buffer = w.readframes(frames)\n",
    "\n",
    "    return buffer, rate"
   ]
  },
  {
   "cell_type": "code",
   "execution_count": 9,
   "id": "499b4121",
   "metadata": {},
   "outputs": [],
   "source": [
    "from IPython.display import clear_output\n",
    "\n",
    "def transcribe_streaming(audio_file):\n",
    "    buffer, rate = read_wav_file(audio_file)\n",
    "    offset=0\n",
    "    batch_size=8196\n",
    "    text=''\n",
    "    print(audio_file)\n",
    "    while offset < len(buffer):\n",
    "        \n",
    "        end_offset=offset+batch_size\n",
    "        chunk=buffer[offset:end_offset]\n",
    "        data16 = np.frombuffer(chunk, dtype=np.int16)\n",
    "\n",
    "        stream.feedAudioContent(data16)\n",
    "        text=stream.intermediateDecode()\n",
    "        #clear_output(wait=True)\n",
    "        #print(text, end=' ')\n",
    "        print(text)\n",
    "        offset=end_offset\n",
    "    #return True"
   ]
  },
  {
   "cell_type": "code",
   "execution_count": 10,
   "id": "afea1c1d",
   "metadata": {},
   "outputs": [
    {
     "name": "stdout",
     "output_type": "stream",
     "text": [
      "speech.wav\n",
      "in the course of a december tour in yorkshire i rode for a long distance in one of the public coaches on the day preceding christmas \n",
      "in the course of a december tour in yorkshire i rode for a long distance in one of the public coaches on the day preceding christmas \n",
      "in the course of a december tour in yorkshire i rode for a long distance in one of the public coaches on the day preceding christmas in\n",
      "in the course of a december tour in yorkshire i rode for a long distance in one of the public coaches on the day preceding christmas in the court\n",
      "in the course of a december tour in yorkshire i rode for a long distance in one of the public coaches on the day preceding christmas in the course of a \n",
      "in the course of a december tour in yorkshire i rode for a long distance in one of the public coaches on the day preceding christmas in the course of a decem\n",
      "in the course of a december tour in yorkshire i rode for a long distance in one of the public coaches on the day preceding christmas in the course of a decem\n",
      "in the course of a december tour in yorkshire i rode for a long distance in one of the public coaches on the day preceding christmas in the course of a december \n",
      "in the course of a december tour in yorkshire i rode for a long distance in one of the public coaches on the day preceding christmas in the course of a december tour i\n",
      "in the course of a december tour in yorkshire i rode for a long distance in one of the public coaches on the day preceding christmas in the course of a december tour in york\n",
      "in the course of a december tour in yorkshire i rode for a long distance in one of the public coaches on the day preceding christmas in the course of a december tour in yorkshire\n",
      "in the course of a december tour in yorkshire i rode for a long distance in one of the public coaches on the day preceding christmas in the course of a december tour in yorkshire\n",
      "in the course of a december tour in yorkshire i rode for a long distance in one of the public coaches on the day preceding christmas in the course of a december tour in yorkshire \n",
      "in the course of a december tour in yorkshire i rode for a long distance in one of the public coaches on the day preceding christmas in the course of a december tour in yorkshire i ro\n",
      "in the course of a december tour in yorkshire i rode for a long distance in one of the public coaches on the day preceding christmas in the course of a december tour in yorkshire i rode for \n",
      "in the course of a december tour in yorkshire i rode for a long distance in one of the public coaches on the day preceding christmas in the course of a december tour in yorkshire i rode for a long\n",
      "in the course of a december tour in yorkshire i rode for a long distance in one of the public coaches on the day preceding christmas in the course of a december tour in yorkshire i rode for a long\n",
      "in the course of a december tour in yorkshire i rode for a long distance in one of the public coaches on the day preceding christmas in the course of a december tour in yorkshire i rode for a long distant\n",
      "in the course of a december tour in yorkshire i rode for a long distance in one of the public coaches on the day preceding christmas in the course of a december tour in yorkshire i rode for a long distance in on\n",
      "in the course of a december tour in yorkshire i rode for a long distance in one of the public coaches on the day preceding christmas in the course of a december tour in yorkshire i rode for a long distance in one of the p\n",
      "in the course of a december tour in yorkshire i rode for a long distance in one of the public coaches on the day preceding christmas in the course of a december tour in yorkshire i rode for a long distance in one of the public\n",
      "in the course of a december tour in yorkshire i rode for a long distance in one of the public coaches on the day preceding christmas in the course of a december tour in yorkshire i rode for a long distance in one of the public\n",
      "in the course of a december tour in yorkshire i rode for a long distance in one of the public coaches on the day preceding christmas in the course of a december tour in yorkshire i rode for a long distance in one of the public coach\n",
      "in the course of a december tour in yorkshire i rode for a long distance in one of the public coaches on the day preceding christmas in the course of a december tour in yorkshire i rode for a long distance in one of the public coaches\n",
      "in the course of a december tour in yorkshire i rode for a long distance in one of the public coaches on the day preceding christmas in the course of a december tour in yorkshire i rode for a long distance in one of the public coaches on th\n",
      "in the course of a december tour in yorkshire i rode for a long distance in one of the public coaches on the day preceding christmas in the course of a december tour in yorkshire i rode for a long distance in one of the public coaches on the day\n",
      "in the course of a december tour in yorkshire i rode for a long distance in one of the public coaches on the day preceding christmas in the course of a december tour in yorkshire i rode for a long distance in one of the public coaches on the day\n",
      "in the course of a december tour in yorkshire i rode for a long distance in one of the public coaches on the day preceding christmas in the course of a december tour in yorkshire i rode for a long distance in one of the public coaches on the day prec\n",
      "in the course of a december tour in yorkshire i rode for a long distance in one of the public coaches on the day preceding christmas in the course of a december tour in yorkshire i rode for a long distance in one of the public coaches on the day preceding \n",
      "in the course of a december tour in yorkshire i rode for a long distance in one of the public coaches on the day preceding christmas in the course of a december tour in yorkshire i rode for a long distance in one of the public coaches on the day preceding christ\n",
      "in the course of a december tour in yorkshire i rode for a long distance in one of the public coaches on the day preceding christmas in the course of a december tour in yorkshire i rode for a long distance in one of the public coaches on the day preceding christmas\n",
      "in the course of a december tour in yorkshire i rode for a long distance in one of the public coaches on the day preceding christmas in the course of a december tour in yorkshire i rode for a long distance in one of the public coaches on the day preceding christmas\n",
      "in the course of a december tour in yorkshire i rode for a long distance in one of the public coaches on the day preceding christmas in the course of a december tour in yorkshire i rode for a long distance in one of the public coaches on the day preceding christmas\n"
     ]
    }
   ],
   "source": [
    "transcribe_streaming('speech.wav')"
   ]
  },
  {
   "cell_type": "code",
   "execution_count": 8,
   "id": "0482a86d",
   "metadata": {},
   "outputs": [
    {
     "name": "stdout",
     "output_type": "stream",
     "text": [
      "in the course of a december tour in yorkshire i rode for a long distance in one of the public coaches on the day preceding christmas \n"
     ]
    }
   ],
   "source": [
    "transcribe_streaming('i-dont-understand.wav')"
   ]
  },
  {
   "cell_type": "code",
   "execution_count": null,
   "id": "8319fce9",
   "metadata": {},
   "outputs": [],
   "source": []
  }
 ],
 "metadata": {
  "kernelspec": {
   "display_name": "Python 3",
   "language": "python",
   "name": "python3"
  },
  "language_info": {
   "codemirror_mode": {
    "name": "ipython",
    "version": 3
   },
   "file_extension": ".py",
   "mimetype": "text/x-python",
   "name": "python",
   "nbconvert_exporter": "python",
   "pygments_lexer": "ipython3",
   "version": "3.9.5"
  }
 },
 "nbformat": 4,
 "nbformat_minor": 5
}
