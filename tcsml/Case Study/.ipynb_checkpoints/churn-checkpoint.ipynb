{
 "cells": [
  {
   "cell_type": "code",
   "execution_count": 1,
   "id": "9cd4813b",
   "metadata": {},
   "outputs": [],
   "source": [
    "from scipy import stats\n",
    "\n",
    "import numpy as np\n",
    "import pandas as pd\n",
    "import seaborn as sns\n",
    "import matplotlib.pyplot as plt\n",
    "from sklearn.preprocessing import  StandardScaler\n",
    "from sklearn.model_selection import train_test_split\n",
    "from imblearn.under_sampling import NearMiss\n",
    "from sklearn.ensemble import AdaBoostClassifier\n",
    "from sklearn.ensemble import RandomForestClassifier\n",
    "\n",
    "from sklearn.metrics import confusion_matrix, accuracy_score, f1_score\n",
    "from sklearn.metrics import roc_curve, roc_auc_score, auc, plot_roc_curve\n",
    "from xgboost import XGBClassifier"
   ]
  },
  {
   "cell_type": "code",
   "execution_count": 2,
   "id": "40c1c8e0",
   "metadata": {},
   "outputs": [],
   "source": [
    "def load_df():\n",
    "    return pd.read_csv('churn_data.csv')"
   ]
  },
  {
   "cell_type": "code",
   "execution_count": 3,
   "id": "6a906716",
   "metadata": {},
   "outputs": [],
   "source": [
    "def impute_missing_reward_points(cols):\n",
    "    rewards_earned = cols[0]\n",
    "    rejected_loan = cols[1]\n",
    "    if pd.isnull(rewards_earned):\n",
    "        if rejected_loan:\n",
    "            return 9\n",
    "        else:\n",
    "            return 25\n",
    "    else:\n",
    "        return rewards_earned"
   ]
  },
  {
   "cell_type": "code",
   "execution_count": 4,
   "id": "89241a5c",
   "metadata": {},
   "outputs": [],
   "source": [
    "def get_encoded_df(df):\n",
    "    one_hot = pd.get_dummies(df[['payment_type','housing']])\n",
    "    df = df.drop(['housing','payment_type'],axis = 1)\n",
    "    df = df.join(one_hot)\n",
    "    return df"
   ]
  },
  {
   "cell_type": "code",
   "execution_count": 5,
   "id": "fc75b73c",
   "metadata": {},
   "outputs": [
    {
     "data": {
      "text/html": [
       "<div>\n",
       "<style scoped>\n",
       "    .dataframe tbody tr th:only-of-type {\n",
       "        vertical-align: middle;\n",
       "    }\n",
       "\n",
       "    .dataframe tbody tr th {\n",
       "        vertical-align: top;\n",
       "    }\n",
       "\n",
       "    .dataframe thead th {\n",
       "        text-align: right;\n",
       "    }\n",
       "</style>\n",
       "<table border=\"1\" class=\"dataframe\">\n",
       "  <thead>\n",
       "    <tr style=\"text-align: right;\">\n",
       "      <th></th>\n",
       "      <th>user</th>\n",
       "      <th>churn</th>\n",
       "      <th>age</th>\n",
       "      <th>housing</th>\n",
       "      <th>credit_score</th>\n",
       "      <th>deposits</th>\n",
       "      <th>withdrawal</th>\n",
       "      <th>purchases_partners</th>\n",
       "      <th>purchases</th>\n",
       "      <th>cc_taken</th>\n",
       "      <th>...</th>\n",
       "      <th>waiting_4_loan</th>\n",
       "      <th>cancelled_loan</th>\n",
       "      <th>received_loan</th>\n",
       "      <th>rejected_loan</th>\n",
       "      <th>zodiac_sign</th>\n",
       "      <th>left_for_two_month_plus</th>\n",
       "      <th>left_for_one_month</th>\n",
       "      <th>rewards_earned</th>\n",
       "      <th>reward_rate</th>\n",
       "      <th>is_referred</th>\n",
       "    </tr>\n",
       "  </thead>\n",
       "  <tbody>\n",
       "    <tr>\n",
       "      <th>0</th>\n",
       "      <td>55409</td>\n",
       "      <td>0</td>\n",
       "      <td>37.0</td>\n",
       "      <td>na</td>\n",
       "      <td>NaN</td>\n",
       "      <td>0</td>\n",
       "      <td>0</td>\n",
       "      <td>0</td>\n",
       "      <td>0</td>\n",
       "      <td>0</td>\n",
       "      <td>...</td>\n",
       "      <td>0</td>\n",
       "      <td>0</td>\n",
       "      <td>0</td>\n",
       "      <td>0</td>\n",
       "      <td>Leo</td>\n",
       "      <td>1</td>\n",
       "      <td>0</td>\n",
       "      <td>NaN</td>\n",
       "      <td>0.00</td>\n",
       "      <td>0</td>\n",
       "    </tr>\n",
       "    <tr>\n",
       "      <th>1</th>\n",
       "      <td>23547</td>\n",
       "      <td>0</td>\n",
       "      <td>28.0</td>\n",
       "      <td>R</td>\n",
       "      <td>486.0</td>\n",
       "      <td>0</td>\n",
       "      <td>0</td>\n",
       "      <td>1</td>\n",
       "      <td>0</td>\n",
       "      <td>0</td>\n",
       "      <td>...</td>\n",
       "      <td>0</td>\n",
       "      <td>0</td>\n",
       "      <td>0</td>\n",
       "      <td>0</td>\n",
       "      <td>Leo</td>\n",
       "      <td>0</td>\n",
       "      <td>0</td>\n",
       "      <td>44.0</td>\n",
       "      <td>1.47</td>\n",
       "      <td>1</td>\n",
       "    </tr>\n",
       "    <tr>\n",
       "      <th>2</th>\n",
       "      <td>58313</td>\n",
       "      <td>0</td>\n",
       "      <td>35.0</td>\n",
       "      <td>R</td>\n",
       "      <td>561.0</td>\n",
       "      <td>47</td>\n",
       "      <td>2</td>\n",
       "      <td>86</td>\n",
       "      <td>47</td>\n",
       "      <td>0</td>\n",
       "      <td>...</td>\n",
       "      <td>0</td>\n",
       "      <td>0</td>\n",
       "      <td>0</td>\n",
       "      <td>0</td>\n",
       "      <td>Capricorn</td>\n",
       "      <td>1</td>\n",
       "      <td>0</td>\n",
       "      <td>65.0</td>\n",
       "      <td>2.17</td>\n",
       "      <td>0</td>\n",
       "    </tr>\n",
       "    <tr>\n",
       "      <th>3</th>\n",
       "      <td>8095</td>\n",
       "      <td>0</td>\n",
       "      <td>26.0</td>\n",
       "      <td>R</td>\n",
       "      <td>567.0</td>\n",
       "      <td>26</td>\n",
       "      <td>3</td>\n",
       "      <td>38</td>\n",
       "      <td>25</td>\n",
       "      <td>0</td>\n",
       "      <td>...</td>\n",
       "      <td>0</td>\n",
       "      <td>0</td>\n",
       "      <td>0</td>\n",
       "      <td>0</td>\n",
       "      <td>Capricorn</td>\n",
       "      <td>0</td>\n",
       "      <td>0</td>\n",
       "      <td>33.0</td>\n",
       "      <td>1.10</td>\n",
       "      <td>1</td>\n",
       "    </tr>\n",
       "    <tr>\n",
       "      <th>4</th>\n",
       "      <td>61353</td>\n",
       "      <td>1</td>\n",
       "      <td>27.0</td>\n",
       "      <td>na</td>\n",
       "      <td>NaN</td>\n",
       "      <td>0</td>\n",
       "      <td>0</td>\n",
       "      <td>2</td>\n",
       "      <td>0</td>\n",
       "      <td>0</td>\n",
       "      <td>...</td>\n",
       "      <td>0</td>\n",
       "      <td>0</td>\n",
       "      <td>0</td>\n",
       "      <td>0</td>\n",
       "      <td>Aries</td>\n",
       "      <td>1</td>\n",
       "      <td>0</td>\n",
       "      <td>1.0</td>\n",
       "      <td>0.03</td>\n",
       "      <td>0</td>\n",
       "    </tr>\n",
       "  </tbody>\n",
       "</table>\n",
       "<p>5 rows × 31 columns</p>\n",
       "</div>"
      ],
      "text/plain": [
       "    user  churn   age housing  credit_score  deposits  withdrawal  \\\n",
       "0  55409      0  37.0      na           NaN         0           0   \n",
       "1  23547      0  28.0       R         486.0         0           0   \n",
       "2  58313      0  35.0       R         561.0        47           2   \n",
       "3   8095      0  26.0       R         567.0        26           3   \n",
       "4  61353      1  27.0      na           NaN         0           0   \n",
       "\n",
       "   purchases_partners  purchases  cc_taken  ...  waiting_4_loan  \\\n",
       "0                   0          0         0  ...               0   \n",
       "1                   1          0         0  ...               0   \n",
       "2                  86         47         0  ...               0   \n",
       "3                  38         25         0  ...               0   \n",
       "4                   2          0         0  ...               0   \n",
       "\n",
       "   cancelled_loan  received_loan  rejected_loan  zodiac_sign  \\\n",
       "0               0              0              0          Leo   \n",
       "1               0              0              0          Leo   \n",
       "2               0              0              0    Capricorn   \n",
       "3               0              0              0    Capricorn   \n",
       "4               0              0              0        Aries   \n",
       "\n",
       "   left_for_two_month_plus  left_for_one_month  rewards_earned  reward_rate  \\\n",
       "0                        1                   0             NaN         0.00   \n",
       "1                        0                   0            44.0         1.47   \n",
       "2                        1                   0            65.0         2.17   \n",
       "3                        0                   0            33.0         1.10   \n",
       "4                        1                   0             1.0         0.03   \n",
       "\n",
       "   is_referred  \n",
       "0            0  \n",
       "1            1  \n",
       "2            0  \n",
       "3            1  \n",
       "4            0  \n",
       "\n",
       "[5 rows x 31 columns]"
      ]
     },
     "execution_count": 5,
     "metadata": {},
     "output_type": "execute_result"
    }
   ],
   "source": [
    "df = load_df()\n",
    "df.head()"
   ]
  },
  {
   "cell_type": "code",
   "execution_count": 6,
   "id": "eb88ba1e",
   "metadata": {},
   "outputs": [
    {
     "name": "stdout",
     "output_type": "stream",
     "text": [
      "<class 'pandas.core.frame.DataFrame'>\n",
      "RangeIndex: 27000 entries, 0 to 26999\n",
      "Data columns (total 31 columns):\n",
      " #   Column                   Non-Null Count  Dtype  \n",
      "---  ------                   --------------  -----  \n",
      " 0   user                     27000 non-null  int64  \n",
      " 1   churn                    27000 non-null  int64  \n",
      " 2   age                      26996 non-null  float64\n",
      " 3   housing                  27000 non-null  object \n",
      " 4   credit_score             18969 non-null  float64\n",
      " 5   deposits                 27000 non-null  int64  \n",
      " 6   withdrawal               27000 non-null  int64  \n",
      " 7   purchases_partners       27000 non-null  int64  \n",
      " 8   purchases                27000 non-null  int64  \n",
      " 9   cc_taken                 27000 non-null  int64  \n",
      " 10  cc_recommended           27000 non-null  int64  \n",
      " 11  cc_disliked              27000 non-null  int64  \n",
      " 12  cc_liked                 27000 non-null  int64  \n",
      " 13  cc_application_begin     27000 non-null  int64  \n",
      " 14  app_downloaded           27000 non-null  int64  \n",
      " 15  web_user                 27000 non-null  int64  \n",
      " 16  app_web_user             27000 non-null  int64  \n",
      " 17  ios_user                 27000 non-null  int64  \n",
      " 18  android_user             27000 non-null  int64  \n",
      " 19  registered_phones        27000 non-null  int64  \n",
      " 20  payment_type             27000 non-null  object \n",
      " 21  waiting_4_loan           27000 non-null  int64  \n",
      " 22  cancelled_loan           27000 non-null  int64  \n",
      " 23  received_loan            27000 non-null  int64  \n",
      " 24  rejected_loan            27000 non-null  int64  \n",
      " 25  zodiac_sign              27000 non-null  object \n",
      " 26  left_for_two_month_plus  27000 non-null  int64  \n",
      " 27  left_for_one_month       27000 non-null  int64  \n",
      " 28  rewards_earned           23773 non-null  float64\n",
      " 29  reward_rate              27000 non-null  float64\n",
      " 30  is_referred              27000 non-null  int64  \n",
      "dtypes: float64(4), int64(24), object(3)\n",
      "memory usage: 6.4+ MB\n"
     ]
    }
   ],
   "source": [
    "df.info()"
   ]
  },
  {
   "cell_type": "code",
   "execution_count": 6,
   "id": "61aa586d",
   "metadata": {},
   "outputs": [
    {
     "data": {
      "text/plain": [
       "<AxesSubplot:>"
      ]
     },
     "execution_count": 6,
     "metadata": {},
     "output_type": "execute_result"
    },
    {
     "data": {
      "image/png": "[encoded data removed]",
      "text/plain": [
       "<Figure size 432x288 with 2 Axes>"
      ]
     },
     "metadata": {
      "needs_background": "light"
     },
     "output_type": "display_data"
    }
   ],
   "source": [
    "sns.heatmap(df.isnull())"
   ]
  },
  {
   "cell_type": "code",
   "execution_count": 7,
   "id": "678df407",
   "metadata": {},
   "outputs": [],
   "source": [
    "df['rewards_earned'] = df[['rewards_earned', 'rejected_loan']].apply(impute_missing_reward_points,axis = 1)"
   ]
  },
  {
   "cell_type": "code",
   "execution_count": 9,
   "id": "e7822283",
   "metadata": {},
   "outputs": [],
   "source": [
    "df['credit_score'].fillna(df['credit_score'].mean(), inplace = True)\n",
    "df['age'].fillna(df['age'].mean(), inplace = True)"
   ]
  },
  {
   "cell_type": "code",
   "execution_count": 10,
   "id": "7dd2cc43",
   "metadata": {},
   "outputs": [
    {
     "name": "stdout",
     "output_type": "stream",
     "text": [
      "<class 'pandas.core.frame.DataFrame'>\n",
      "RangeIndex: 27000 entries, 0 to 26999\n",
      "Data columns (total 31 columns):\n",
      " #   Column                   Non-Null Count  Dtype  \n",
      "---  ------                   --------------  -----  \n",
      " 0   user                     27000 non-null  int64  \n",
      " 1   churn                    27000 non-null  int64  \n",
      " 2   age                      27000 non-null  float64\n",
      " 3   housing                  27000 non-null  object \n",
      " 4   credit_score             27000 non-null  float64\n",
      " 5   deposits                 27000 non-null  int64  \n",
      " 6   withdrawal               27000 non-null  int64  \n",
      " 7   purchases_partners       27000 non-null  int64  \n",
      " 8   purchases                27000 non-null  int64  \n",
      " 9   cc_taken                 27000 non-null  int64  \n",
      " 10  cc_recommended           27000 non-null  int64  \n",
      " 11  cc_disliked              27000 non-null  int64  \n",
      " 12  cc_liked                 27000 non-null  int64  \n",
      " 13  cc_application_begin     27000 non-null  int64  \n",
      " 14  app_downloaded           27000 non-null  int64  \n",
      " 15  web_user                 27000 non-null  int64  \n",
      " 16  app_web_user             27000 non-null  int64  \n",
      " 17  ios_user                 27000 non-null  int64  \n",
      " 18  android_user             27000 non-null  int64  \n",
      " 19  registered_phones        27000 non-null  int64  \n",
      " 20  payment_type             27000 non-null  object \n",
      " 21  waiting_4_loan           27000 non-null  int64  \n",
      " 22  cancelled_loan           27000 non-null  int64  \n",
      " 23  received_loan            27000 non-null  int64  \n",
      " 24  rejected_loan            27000 non-null  int64  \n",
      " 25  zodiac_sign              27000 non-null  object \n",
      " 26  left_for_two_month_plus  27000 non-null  int64  \n",
      " 27  left_for_one_month       27000 non-null  int64  \n",
      " 28  rewards_earned           27000 non-null  float64\n",
      " 29  reward_rate              27000 non-null  float64\n",
      " 30  is_referred              27000 non-null  int64  \n",
      "dtypes: float64(4), int64(24), object(3)\n",
      "memory usage: 6.4+ MB\n"
     ]
    }
   ],
   "source": [
    "df.info()"
   ]
  },
  {
   "cell_type": "code",
   "execution_count": 11,
   "id": "86d9fab0",
   "metadata": {},
   "outputs": [],
   "source": [
    "df.drop(['credit_score', 'user', 'zodiac_sign'], axis = 1, inplace = True)\n",
    "\n",
    "df = get_encoded_df(df)"
   ]
  },
  {
   "cell_type": "code",
   "execution_count": 12,
   "id": "8c9ac86d",
   "metadata": {},
   "outputs": [
    {
     "name": "stderr",
     "output_type": "stream",
     "text": [
      "<ipython-input-12-c3590d526150>:7: DataConversionWarning: A column-vector y was passed when a 1d array was expected. Please change the shape of y to (n_samples,), for example using ravel().\n",
      "  classifier.fit(X_train, y_train)\n"
     ]
    },
    {
     "name": "stdout",
     "output_type": "stream",
     "text": [
      "F1 Score: 0.6290859267958505\n",
      "Accuracy: 0.7192592592592593\n"
     ]
    }
   ],
   "source": [
    "X = df.drop('churn', axis = 1).values\n",
    "y = df[['churn']].values\n",
    "\n",
    "X_train, X_test, y_train, y_test = train_test_split(X,y,test_size=.25, random_state=0)\n",
    "classifier =RandomForestClassifier(n_estimators=120)\n",
    "#classifier= XGBClassifier()\n",
    "classifier.fit(X_train, y_train)\n",
    "print(f'F1 Score: {f1_score(y_test, classifier.predict(X_test))}')\n",
    "print(f'Accuracy: {accuracy_score(y_test, classifier.predict(X_test))}')"
   ]
  },
  {
   "cell_type": "code",
   "execution_count": 20,
   "id": "92248228",
   "metadata": {},
   "outputs": [
    {
     "name": "stdout",
     "output_type": "stream",
     "text": [
      "<class 'pandas.core.frame.DataFrame'>\n",
      "RangeIndex: 27000 entries, 0 to 26999\n",
      "Data columns (total 34 columns):\n",
      " #   Column                     Non-Null Count  Dtype  \n",
      "---  ------                     --------------  -----  \n",
      " 0   churn                      27000 non-null  int64  \n",
      " 1   age                        26996 non-null  float64\n",
      " 2   deposits                   27000 non-null  int64  \n",
      " 3   withdrawal                 27000 non-null  int64  \n",
      " 4   purchases_partners         27000 non-null  int64  \n",
      " 5   purchases                  27000 non-null  int64  \n",
      " 6   cc_taken                   27000 non-null  int64  \n",
      " 7   cc_recommended             27000 non-null  int64  \n",
      " 8   cc_disliked                27000 non-null  int64  \n",
      " 9   cc_liked                   27000 non-null  int64  \n",
      " 10  cc_application_begin       27000 non-null  int64  \n",
      " 11  app_downloaded             27000 non-null  int64  \n",
      " 12  web_user                   27000 non-null  int64  \n",
      " 13  app_web_user               27000 non-null  int64  \n",
      " 14  ios_user                   27000 non-null  int64  \n",
      " 15  android_user               27000 non-null  int64  \n",
      " 16  registered_phones          27000 non-null  int64  \n",
      " 17  waiting_4_loan             27000 non-null  int64  \n",
      " 18  cancelled_loan             27000 non-null  int64  \n",
      " 19  received_loan              27000 non-null  int64  \n",
      " 20  rejected_loan              27000 non-null  int64  \n",
      " 21  left_for_two_month_plus    27000 non-null  int64  \n",
      " 22  left_for_one_month         27000 non-null  int64  \n",
      " 23  rewards_earned             27000 non-null  float64\n",
      " 24  reward_rate                27000 non-null  float64\n",
      " 25  is_referred                27000 non-null  int64  \n",
      " 26  payment_type_Bi-Weekly     27000 non-null  uint8  \n",
      " 27  payment_type_Monthly       27000 non-null  uint8  \n",
      " 28  payment_type_Semi-Monthly  27000 non-null  uint8  \n",
      " 29  payment_type_Weekly        27000 non-null  uint8  \n",
      " 30  payment_type_na            27000 non-null  uint8  \n",
      " 31  housing_O                  27000 non-null  uint8  \n",
      " 32  housing_R                  27000 non-null  uint8  \n",
      " 33  housing_na                 27000 non-null  uint8  \n",
      "dtypes: float64(3), int64(23), uint8(8)\n",
      "memory usage: 5.6 MB\n"
     ]
    }
   ],
   "source": [
    "df.info()"
   ]
  },
  {
   "cell_type": "code",
   "execution_count": 19,
   "id": "152467c2",
   "metadata": {},
   "outputs": [
    {
     "data": {
      "text/plain": [
       "churn                        27000\n",
       "age                          27000\n",
       "deposits                     27000\n",
       "withdrawal                   27000\n",
       "purchases_partners           27000\n",
       "purchases                    27000\n",
       "cc_taken                     27000\n",
       "cc_recommended               27000\n",
       "cc_disliked                  27000\n",
       "cc_liked                     27000\n",
       "cc_application_begin         27000\n",
       "app_downloaded               27000\n",
       "web_user                     27000\n",
       "app_web_user                 27000\n",
       "ios_user                     27000\n",
       "android_user                 27000\n",
       "registered_phones            27000\n",
       "waiting_4_loan               27000\n",
       "cancelled_loan               27000\n",
       "received_loan                27000\n",
       "rejected_loan                27000\n",
       "left_for_two_month_plus      27000\n",
       "left_for_one_month           27000\n",
       "rewards_earned               27000\n",
       "reward_rate                  27000\n",
       "is_referred                  27000\n",
       "payment_type_Bi-Weekly       27000\n",
       "payment_type_Monthly         27000\n",
       "payment_type_Semi-Monthly    27000\n",
       "payment_type_Weekly          27000\n",
       "payment_type_na              27000\n",
       "housing_O                    27000\n",
       "housing_R                    27000\n",
       "housing_na                   27000\n",
       "dtype: int64"
      ]
     },
     "execution_count": 19,
     "metadata": {},
     "output_type": "execute_result"
    }
   ],
   "source": [
    "df.isnull().count()"
   ]
  },
  {
   "cell_type": "code",
   "execution_count": null,
   "id": "7b295d5c",
   "metadata": {},
   "outputs": [],
   "source": []
  }
 ],
 "metadata": {
  "kernelspec": {
   "display_name": "Python 3",
   "language": "python",
   "name": "python3"
  },
  "language_info": {
   "codemirror_mode": {
    "name": "ipython",
    "version": 3
   },
   "file_extension": ".py",
   "mimetype": "text/x-python",
   "name": "python",
   "nbconvert_exporter": "python",
   "pygments_lexer": "ipython3",
   "version": "3.9.5"
  }
 },
 "nbformat": 4,
 "nbformat_minor": 5
}
