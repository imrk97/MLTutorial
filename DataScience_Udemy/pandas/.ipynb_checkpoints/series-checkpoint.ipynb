{
 "cells": [
  {
   "cell_type": "code",
   "execution_count": null,
   "id": "14d33fa4",
   "metadata": {},
   "outputs": [],
   "source": [
    "import pandas as pd\n",
    "import numpy as np"
   ]
  },
  {
   "cell_type": "code",
   "execution_count": null,
   "id": "2f6bca68",
   "metadata": {},
   "outputs": [],
   "source": [
    "labels = ['a', 'b', 'c']\n",
    "mydata = [10, 20, 30]\n",
    "arr = np.array(mydata)\n",
    "d = {labels[0] : mydata[0], labels[1] : mydata[1], labels[2] : mydata[2]}"
   ]
  },
  {
   "cell_type": "code",
   "execution_count": null,
   "id": "c14b9a35",
   "metadata": {},
   "outputs": [],
   "source": [
    "pd.Series(d)"
   ]
  },
  {
   "cell_type": "code",
   "execution_count": null,
   "id": "12f97f26",
   "metadata": {},
   "outputs": [],
   "source": [
    "ser1 = pd.Series([1, 2, 3, 4], ['USA', 'USSR', 'Germany', 'UK']); ser1"
   ]
  },
  {
   "cell_type": "code",
   "execution_count": null,
   "id": "2bbe677b",
   "metadata": {},
   "outputs": [],
   "source": []
  }
 ],
 "metadata": {
  "kernelspec": {
   "display_name": "Python 3",
   "language": "python",
   "name": "python3"
  },
  "language_info": {
   "codemirror_mode": {
    "name": "ipython",
    "version": 3
   },
   "file_extension": ".py",
   "mimetype": "text/x-python",
   "name": "python",
   "nbconvert_exporter": "python",
   "pygments_lexer": "ipython3",
   "version": "3.9.5"
  }
 },
 "nbformat": 4,
 "nbformat_minor": 5
}
