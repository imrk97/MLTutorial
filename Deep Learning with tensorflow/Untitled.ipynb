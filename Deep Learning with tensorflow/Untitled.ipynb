{
 "cells": [
  {
   "cell_type": "code",
   "execution_count": 2,
   "id": "c67c0251",
   "metadata": {},
   "outputs": [],
   "source": [
    "import numpy as np\n",
    "\n",
    "y_pred = np.array([1,1,0,0,1])\n",
    "y_true = np.array([.3,.7,1,0,.5])\n"
   ]
  },
  {
   "cell_type": "code",
   "execution_count": 12,
   "id": "877a7c9d",
   "metadata": {},
   "outputs": [],
   "source": [
    "def mae(y_true, y_pred):\n",
    "    total_err = 0\n",
    "    for yt, yp in zip(y_true, y_pred):\n",
    "        total_err += abs(yt - yp)\n",
    "    return total_err / len(y_pred) , np.mean(abs(y_true - y_pred)) , np.mean((y_true - y_pred)**2)"
   ]
  },
  {
   "cell_type": "code",
   "execution_count": 13,
   "id": "ce0063fd",
   "metadata": {},
   "outputs": [
    {
     "data": {
      "text/plain": [
       "(0.5, 0.5, 0.366)"
      ]
     },
     "execution_count": 13,
     "metadata": {},
     "output_type": "execute_result"
    }
   ],
   "source": [
    "mae(y_true, y_pred)"
   ]
  },
  {
   "cell_type": "code",
   "execution_count": 14,
   "id": "ecfa2e15",
   "metadata": {},
   "outputs": [],
   "source": [
    "epsilon = 1e-15"
   ]
  },
  {
   "cell_type": "code",
   "execution_count": 30,
   "id": "8c3f464f",
   "metadata": {},
   "outputs": [],
   "source": [
    "y_updated = np.array(list(  max(i, epsilon) for i in y_pred))"
   ]
  },
  {
   "cell_type": "code",
   "execution_count": 31,
   "id": "5083e6ad",
   "metadata": {},
   "outputs": [],
   "source": [
    "y_updated = np.array(list(min(i,1-epsilon) for i in y_updated))"
   ]
  },
  {
   "cell_type": "code",
   "execution_count": 32,
   "id": "8b0709b3",
   "metadata": {},
   "outputs": [
    {
     "data": {
      "text/plain": [
       "array([1.e+00, 1.e+00, 1.e-15, 1.e-15, 1.e+00])"
      ]
     },
     "execution_count": 32,
     "metadata": {},
     "output_type": "execute_result"
    }
   ],
   "source": [
    "y_updated"
   ]
  },
  {
   "cell_type": "code",
   "execution_count": 34,
   "id": "7cfd0880",
   "metadata": {},
   "outputs": [
    {
     "data": {
      "text/plain": [
       "17.2696280766844"
      ]
     },
     "execution_count": 34,
     "metadata": {},
     "output_type": "execute_result"
    }
   ],
   "source": [
    "-np.mean(y_true*np.log(y_updated) +(1-y_true)*np.log(1-y_updated))"
   ]
  },
  {
   "cell_type": "code",
   "execution_count": null,
   "id": "d22aca56",
   "metadata": {},
   "outputs": [],
   "source": []
  }
 ],
 "metadata": {
  "kernelspec": {
   "display_name": "Python 3",
   "language": "python",
   "name": "python3"
  },
  "language_info": {
   "codemirror_mode": {
    "name": "ipython",
    "version": 3
   },
   "file_extension": ".py",
   "mimetype": "text/x-python",
   "name": "python",
   "nbconvert_exporter": "python",
   "pygments_lexer": "ipython3",
   "version": "3.9.5"
  }
 },
 "nbformat": 4,
 "nbformat_minor": 5
}
